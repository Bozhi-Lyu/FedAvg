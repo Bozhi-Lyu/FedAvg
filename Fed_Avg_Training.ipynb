{
 "cells": [
  {
   "cell_type": "code",
   "execution_count": null,
   "id": "6770816c",
   "metadata": {},
   "outputs": [],
   "source": [
    "import random\n",
    "import copy\n",
    "\n",
    "import numpy as np\n",
    "\n",
    "import torch\n",
    "import torch.nn as nn\n",
    "import torch.nn.functional as F\n",
    "from Data_Load_Assign_Visual import *\n",
    "from sklearn.metrics import accuracy_score\n",
    "\n",
    "import matplotlib.pyplot as plt\n",
    "import seaborn as sns"
   ]
  },
  {
   "cell_type": "code",
   "execution_count": null,
   "id": "d01fafac",
   "metadata": {},
   "outputs": [],
   "source": [
    "# Set device\n",
    "device = 'cuda' if torch.cuda.is_available() else 'cpu'\n",
    "print(\"| using device:\", device)\n",
    "\n",
    "# Set random seeds\n",
    "np.random.seed(0)\n",
    "torch.manual_seed(0)\n",
    "random.seed(0)"
   ]
  },
  {
   "cell_type": "code",
   "execution_count": null,
   "id": "372c920e",
   "metadata": {},
   "outputs": [],
   "source": [
    "# Load Dataset\n",
    "train_data, test_data = load_MNIST()\n",
    "\n",
    "# print(\"Type of trainDataset：\", type(train_data))\n",
    "# print(\"Length of trainDataset：\", len(train_data))\n",
    "\n",
    "# print(\"Type of trainDataset[0]：\", type(train_data[0]))\n",
    "# print(\"Length of trainDataset[0]：\", len(train_data[0]))\n",
    "\n",
    "# print(\"Type of trainDataset[0][0]：\", type(train_data[0][0]))\n",
    "# print(\"Shape of trainDataset[0][0]：\", train_data[0][0].shape)\n",
    "# print(\"Type of trainDataset[0][1]：\", type(train_data[0][1]))\n",
    "# print(\"trainDataset[0][1]：\", train_data[0][1])\n",
    "\n",
    "# Get client dataloaders\n",
    "iid_train_loader = iid_Assign(train_data)\n",
    "noniid_train_loader = non_iid_Assign(train_data)\n",
    "# print(\"iid_train_loader length\", len(iid_train_loader))\n",
    "# print(\"noniid_train_loader length\", len(noniid_train_loader))"
   ]
  },
  {
   "cell_type": "code",
   "execution_count": null,
   "id": "b42c8675",
   "metadata": {},
   "outputs": [],
   "source": [
    "# Test iid and non-iid is correct.\n",
    "\n",
    "# iid\n",
    "sample_iid = random.sample(iid_train_loader, 5)\n",
    "iid_labels = []\n",
    "for i in sample_iid:\n",
    "    iid_label = torch.zeros(10)\n",
    "    for (x,y) in i:\n",
    "        iid_label += torch.sum(F.one_hot(y, num_classes=10), dim=0)\n",
    "    iid_labels.append(iid_label)\n",
    "    \n",
    "iid_labels = torch.stack(iid_labels)\n",
    "iid_normalized = iid_labels / 600 # min-max normalization\n",
    "\n",
    "# non_iid\n",
    "sample_noniid = random.sample(noniid_train_loader, 5)\n",
    "noniid_labels = []\n",
    "for i in sample_noniid:\n",
    "    noniid_label = torch.zeros(10)\n",
    "    for (x,y) in i:\n",
    "        noniid_label += torch.sum(F.one_hot(y, num_classes=10), dim=0)\n",
    "    noniid_labels.append(noniid_label)\n",
    "    \n",
    "noniid_labels = torch.stack(noniid_labels)\n",
    "noniid_normalized = noniid_labels / 600\n",
    "\n",
    "plt.figure(figsize=(12, 6))\n",
    "\n",
    "plt.subplot(1, 2, 1)\n",
    "sns.heatmap(iid_normalized.numpy(), cmap='Blues', annot=True, fmt=\".2f\", cbar=True)\n",
    "plt.xlabel('Number')\n",
    "plt.ylabel('Sample')\n",
    "plt.title('IID Label Heatmap')\n",
    "\n",
    "plt.subplot(1, 2, 2)\n",
    "sns.heatmap(noniid_normalized.numpy(), cmap='Blues', annot=True, fmt=\".2f\", cbar=True)\n",
    "plt.xlabel('Number')\n",
    "plt.ylabel('Sample')\n",
    "plt.title('Non-IID Label Heatmap')\n",
    "\n",
    "plt.tight_layout()\n",
    "plt.show()"
   ]
  },
  {
   "cell_type": "code",
   "execution_count": null,
   "id": "66d39216",
   "metadata": {
    "scrolled": true
   },
   "outputs": [],
   "source": [
    "# Model Defination\n",
    "\n",
    "# Model 1: A simple multilayer-perceptron with 2-hidden\n",
    "# layers with 200 units each using ReLu activations (199,210\n",
    "# total parameters), which we refer to as the MNIST 2NN.\n",
    "\n",
    "# define fully connected NN\n",
    "class MLP(nn.Module):\n",
    "    def __init__(self):\n",
    "        super(MLP, self).__init__()\n",
    "        self.fc1 = nn.Linear(784, 200);\n",
    "        self.fc2 = nn.Linear(200, 200);\n",
    "        self.out = nn.Linear(200, 10);\n",
    "\n",
    "    def forward(self, x):\n",
    "        x = x.flatten(1) # torch.Size([B,784])\n",
    "        x = F.relu(self.fc1(x))\n",
    "        x = F.relu(self.fc2(x))\n",
    "        x = self.out(x)\n",
    "        return x\n",
    "\n",
    "print(MLP())\n",
    "print(\"Total parameters of 2NN(MLP) is\", num_params(MLP()))\n",
    "\n",
    "# Model 2: A CNN with two 5x5 convolution layers (the first with\n",
    "# 32 channels, the second with 64, each followed with 2x2\n",
    "# max pooling), a fully connected layer with 512 units and\n",
    "# ReLu activation, and a final softmax output layer (1,663,370\n",
    "# total parameters).\n",
    "\n",
    "class CNN(nn.Module):\n",
    "    def __init__(self):\n",
    "        super(CNN, self).__init__()\n",
    "        self.conv1 = nn.Conv2d(1, 32, kernel_size=5, stride=1, padding=2)\n",
    "        self.pool1 = nn.MaxPool2d(kernel_size=2, stride=2)\n",
    "        self.conv2 = nn.Conv2d(32, 64, kernel_size=5, stride=1, padding=2)\n",
    "        self.pool2 = nn.MaxPool2d(kernel_size=2, stride=2)\n",
    "        self.fc1 = nn.Linear(64 * 7 * 7, 512)\n",
    "        self.fc2 = nn.Linear(512, 10)\n",
    "    \n",
    "    def forward(self, x):\n",
    "        x = F.relu(self.conv1(x))\n",
    "        # print(\"After x = F.relu(self.conv1(x)), the shape of x is: \", x.shape)\n",
    "        x = self.pool1(x)\n",
    "        # print(\"After x = self.pool1(x), the shape of x is: \", x.shape)\n",
    "        x = F.relu(self.conv2(x))\n",
    "        # print(\"After x = F.relu(self.conv2(x)), the shape of x is: \", x.shape)    \n",
    "        x = self.pool2(x)\n",
    "        # print(\"After x = self.pool1(F.relu(self.conv1(x))), the shape of x is: \", x.shape)\n",
    "        \n",
    "        x = x.view(-1, 64 * 7 * 7) # flatten\n",
    "        x = F.relu(self.fc1(x))\n",
    "        x = F.softmax(self.fc2(x), dim=1)\n",
    "        return x\n",
    "\n",
    "print(CNN())\n",
    "print(\"Total parameters of CNN is\", num_params(CNN()))\n",
    "\n",
    "# Q: The paper said there will be 1,663,370 total parameters. Something wrong?"
   ]
  },
  {
   "cell_type": "code",
   "execution_count": null,
   "id": "ffe9c771",
   "metadata": {},
   "outputs": [],
   "source": [
    "# Fed_Avg\n",
    "def fedavg(global_model, C, K, E, c_loader, rounds, lr, acc_threshold):\n",
    "    # C is the fraction of clients that perform computation on each round.\n",
    "    assert C <= 1 and C >= 0\n",
    "    # K is the number of clients.\n",
    "    # E is the local epochs, the number of training passes each client makes\n",
    "    # over its local dataset on each round.\n",
    "    \n",
    "    c_per_round = max( round(C * K), 1)\n",
    "    accuracy = []\n",
    "    entropys_of_rounds = []\n",
    "    \n",
    "    for rd in range(rounds):\n",
    "        \n",
    "        # Choose c_per_round clients\n",
    "        clients = random.sample(range(K), c_per_round)\n",
    "        \n",
    "        # Train on clients one by one\n",
    "        client_model = []\n",
    "        entropys_of_clients = []\n",
    "        for i, c in enumerate(clients):\n",
    "            local_model, entropy = client_training(global_model, id = c, local_epochs = E, dataloader = c_loader[c], lr = lr)\n",
    "            local_model = local_model.to(device)\n",
    "            client_model.append(local_model.state_dict())\n",
    "            entropys_of_clients.append(entropy)\n",
    "        \n",
    "        entropys_of_rounds.append(entropys_of_clients)\n",
    "    \n",
    "        # Average and iterate global model parameters for next round  \n",
    "        keys = client_model[0].keys()\n",
    "        next_global_dict = {key: 0 for key in keys}\n",
    "        for key in keys:\n",
    "            values = [d[key] for d in client_model]\n",
    "            averaged_value = sum(values) / len(values)\n",
    "            next_global_dict[key] = averaged_value\n",
    "            \n",
    "        global_model.load_state_dict(next_global_dict)\n",
    "        global_model = global_model.to(device)\n",
    "        \n",
    "        # Validate accuracy this round\n",
    "        test_inputs, test_labels = zip(*test_data)\n",
    "        test_inputs = torch.stack(test_inputs).to(device)\n",
    "        test_labels = torch.Tensor(test_labels).to(device)\n",
    "\n",
    "        global_model.eval()\n",
    "        with torch.no_grad():\n",
    "            predictions = global_model(test_inputs)\n",
    "\n",
    "        predicted_labels = torch.argmax(predictions, dim=1).cpu().numpy()\n",
    "        true_labels = test_labels.cpu().numpy()\n",
    "\n",
    "        acc = accuracy_score(true_labels, predicted_labels)\n",
    "        if rd%10 == 0 or acc >= acc_threshold:\n",
    "            print(\"The clients in round {} are: {}\".format(rd, clients))\n",
    "            print(\"Accuracy of round {}:{}\".format(rd, acc))\n",
    "            print()\n",
    "        accuracy.append(acc)\n",
    "        if acc >= acc_threshold:\n",
    "            break\n",
    "        \n",
    "    return accuracy, entropys_of_rounds"
   ]
  },
  {
   "cell_type": "markdown",
   "id": "bd17a198",
   "metadata": {},
   "source": [
    "Choose entropy for uncertainty estimation:\n",
    "$$\\mathbb{H}[y|\\mathbf{x},\\mathcal{D}_{train}]:=-\\sum_{c}p(y=c|\\mathbf{x},\\mathcal{D}_{train})\\log p(y=c|\\mathbf{x},\\mathcal{D}_{train})$$"
   ]
  },
  {
   "cell_type": "code",
   "execution_count": null,
   "id": "467ae7de",
   "metadata": {},
   "outputs": [],
   "source": [
    "# Calculate the averaged entropy of the local model after every local training\n",
    "def calculate_entropy(logits):\n",
    "    log_probabilities = torch.log(logits)\n",
    "    entropy = -torch.sum(logits * log_probabilities, dim=1)\n",
    "    return entropy.mean().item()"
   ]
  },
  {
   "cell_type": "code",
   "execution_count": null,
   "id": "d4ef5d7a",
   "metadata": {},
   "outputs": [],
   "source": [
    "criterion = nn.CrossEntropyLoss()\n",
    "\n",
    "def client_training(global_model, id, local_epochs, dataloader, lr):\n",
    "    local_model = copy.deepcopy(global_model)\n",
    "    local_model = local_model.to(device)\n",
    "    optimizer = torch.optim.SGD(local_model.parameters(), lr=lr)\n",
    "    \n",
    "    for epoch in range(local_epochs):\n",
    "        for inputs, labels in dataloader:\n",
    "            inputs = inputs.to(device)\n",
    "            labels = labels.to(device)\n",
    "\n",
    "            optimizer.zero_grad()\n",
    "            outputs = local_model(inputs)\n",
    "            loss = criterion(outputs, labels)\n",
    "            loss.backward()\n",
    "            optimizer.step()\n",
    "            \n",
    "        # Calculate the Averaged Entropy After All Epoches:\n",
    "        if epoch == local_epochs - 1:\n",
    "            with torch.no_grad():\n",
    "                outputs = local_model(inputs)\n",
    "                entropy = calculate_entropy(outputs)            \n",
    "            \n",
    "    return local_model, entropy"
   ]
  },
  {
   "cell_type": "markdown",
   "id": "91c48f4c",
   "metadata": {},
   "source": [
    "# MNIST 2NN "
   ]
  },
  {
   "cell_type": "code",
   "execution_count": null,
   "id": "d1437eb2",
   "metadata": {},
   "outputs": [],
   "source": [
    "mlp = MLP()\n",
    "acc_threshold_2nn = 0.97"
   ]
  },
  {
   "cell_type": "code",
   "execution_count": null,
   "id": "2e9f5fa5",
   "metadata": {},
   "outputs": [],
   "source": [
    "# iid C = 0.1\n",
    "mlp_iid1 = copy.deepcopy(mlp)\n",
    "acc_mlp_iid1 = fedavg(mlp_iid1, C = 0.1, K = 100, E = 1, \n",
    "                      c_loader = iid_train_loader, rounds = 100, \n",
    "                      lr = 0.05, acc_threshold = acc_threshold_2nn)\n",
    "pltAcc(acc_mlp_iid1, acc_threshold_2nn, 'iid C = 0.1')\n",
    "print(\"{} rounds needed to achieve the accuracy of {}\".format(len(acc_mlp_iid1), acc_mlp_iid1[-1]))"
   ]
  },
  {
   "cell_type": "code",
   "execution_count": null,
   "id": "1b0db2ae",
   "metadata": {},
   "outputs": [],
   "source": [
    "# iid C = 0.2\n",
    "mlp_iid2 = copy.deepcopy(mlp)\n",
    "acc_mlp_iid2 = fedavg(mlp_iid2, C = 0.2, K = 100, E = 1, \n",
    "                      c_loader = iid_train_loader, rounds = 100, \n",
    "                      lr = 0.05, acc_threshold = acc_threshold_2nn)\n",
    "pltAcc(acc_mlp_iid2, acc_threshold_2nn, 'iid C = 0.2')\n",
    "print(\"{} rounds needed to achieve the accuracy of {}\".format(len(acc_mlp_iid2), acc_mlp_iid2[-1]))"
   ]
  },
  {
   "cell_type": "code",
   "execution_count": null,
   "id": "ac996a90",
   "metadata": {},
   "outputs": [],
   "source": [
    "# iid C = 0.5\n",
    "mlp_iid3 = copy.deepcopy(mlp)\n",
    "acc_mlp_iid3 = fedavg(mlp_iid3, C = 0.5, K = 100, E = 1, \n",
    "                      c_loader = iid_train_loader, rounds = 100, \n",
    "                      lr = 0.05, acc_threshold = acc_threshold_2nn)\n",
    "pltAcc(acc_mlp_iid3, acc_threshold_2nn, 'iid C = 0.5')\n",
    "print(\"{} rounds needed to achieve the accuracy of {}\".format(len(acc_mlp_iid3), acc_mlp_iid3[-1]))"
   ]
  },
  {
   "cell_type": "code",
   "execution_count": null,
   "id": "7b271e32",
   "metadata": {},
   "outputs": [],
   "source": [
    "# iid C = 1\n",
    "mlp_iid4 = copy.deepcopy(mlp)\n",
    "acc_mlp_iid4 = fedavg(mlp_iid4, C = 1, K = 100, E = 1, \n",
    "                      c_loader = iid_train_loader, rounds = 100, \n",
    "                      lr = 0.05, acc_threshold = acc_threshold_2nn)\n",
    "pltAcc(acc_mlp_iid4, acc_threshold_2nn, 'iid C = 1')\n",
    "print(\"{} rounds needed to achieve the accuracy of {}\".format(len(acc_mlp_iid4), acc_mlp_iid4[-1]))"
   ]
  },
  {
   "cell_type": "code",
   "execution_count": null,
   "id": "dcb3c6b1",
   "metadata": {},
   "outputs": [],
   "source": [
    "# non-iid C = 0.1\n",
    "mlp_noniid1 = copy.deepcopy(mlp)\n",
    "acc_mlp_noniid1 = fedavg(mlp_noniid1, C = 0.1, K = 100, E = 1, \n",
    "                      c_loader = noniid_train_loader, rounds = 500, \n",
    "                      lr = 0.05, acc_threshold = acc_threshold_2nn)\n",
    "pltAcc(acc_mlp_noniid1, acc_threshold_2nn, 'non-iid C = 0.1')\n",
    "print(\"{} rounds needed to achieve the accuracy of {}\".format(len(acc_mlp_noniid1), acc_mlp_noniid1[-1]))"
   ]
  },
  {
   "cell_type": "code",
   "execution_count": null,
   "id": "5e098524",
   "metadata": {},
   "outputs": [],
   "source": [
    "# non-iid C = 0.2\n",
    "mlp_noniid2 = copy.deepcopy(mlp)\n",
    "acc_mlp_noniid2 = fedavg(mlp_noniid2, C = 0.2, K = 100, E = 1, \n",
    "                      c_loader = noniid_train_loader, rounds = 500, \n",
    "                      lr = 0.05, acc_threshold = acc_threshold_2nn)\n",
    "pltAcc(acc_mlp_noniid2, acc_threshold_2nn, 'non-iid C = 0.2')\n",
    "print(\"{} rounds needed to achieve the accuracy of {}\".format(len(acc_mlp_noniid2), acc_mlp_noniid2[-1]))"
   ]
  },
  {
   "cell_type": "code",
   "execution_count": null,
   "id": "473fa2a0",
   "metadata": {},
   "outputs": [],
   "source": [
    "# non-iid C = 0.5\n",
    "mlp_noniid3 = copy.deepcopy(mlp)\n",
    "acc_mlp_noniid3 = fedavg(mlp_noniid3, C = 0.5, K = 100, E = 1, \n",
    "                      c_loader = noniid_train_loader, rounds = 500, \n",
    "                      lr = 0.05, acc_threshold = acc_threshold_2nn)\n",
    "pltAcc(acc_mlp_noniid3, acc_threshold_2nn, 'non-iid C = 0.5')\n",
    "print(\"{} rounds needed to achieve the accuracy of {}\".format(len(acc_mlp_noniid3), acc_mlp_noniid3[-1]))"
   ]
  },
  {
   "cell_type": "code",
   "execution_count": null,
   "id": "b01780f7",
   "metadata": {},
   "outputs": [],
   "source": [
    "# non-iid C = 1\n",
    "mlp_noniid4 = copy.deepcopy(mlp)\n",
    "acc_mlp_noniid4 = fedavg(mlp_noniid4, C = 1, K = 100, E = 1, \n",
    "                      c_loader = noniid_train_loader, rounds = 500, \n",
    "                      lr = 0.05, acc_threshold = acc_threshold_2nn)\n",
    "pltAcc(acc_mlp_noniid4, acc_threshold_2nn, 'non-iid C = 1')\n",
    "print(\"{} rounds needed to achieve the accuracy of {}\".format(len(acc_mlp_noniid4), acc_mlp_noniid4[-1]))"
   ]
  },
  {
   "cell_type": "code",
   "execution_count": null,
   "id": "fe2b12df",
   "metadata": {},
   "outputs": [],
   "source": [
    "plt.figure(figsize=(12, 8))\n",
    "log_rounds = np.log10(range(50, 500, 100))\n",
    "rounds = range(50, 500, 100) \n",
    "\n",
    "plt.plot(np.log10(range(1, len(acc_mlp_iid1) + 1)), acc_mlp_iid1, marker='.', linestyle='solid', color='blue', label='iid, C = 0.1')\n",
    "plt.plot(np.log10(range(1, len(acc_mlp_iid2) + 1)), acc_mlp_iid2, marker='.', linestyle='solid', color='green', label='iid, C = 0.2')\n",
    "plt.plot(np.log10(range(1, len(acc_mlp_iid3) + 1)), acc_mlp_iid3, marker='.', linestyle='solid', color='red', label='iid, C = 0.5')\n",
    "plt.plot(np.log10(range(1, len(acc_mlp_iid4) + 1)), acc_mlp_iid4, marker='.', linestyle='solid', color='purple', label='iid, C = 1')\n",
    "plt.plot(np.log10(range(1, len(acc_mlp_noniid1) + 1)), acc_mlp_noniid1, marker='.', linestyle='dotted', color='orange', label='non-iid, C = 0.1')\n",
    "plt.plot(np.log10(range(1, len(acc_mlp_noniid2) + 1)), acc_mlp_noniid2, marker='.', linestyle='dotted', color='cyan', label='non-iid, C = 0.2')\n",
    "plt.plot(np.log10(range(1, len(acc_mlp_noniid3) + 1)), acc_mlp_noniid3, marker='.', linestyle='dotted', color='magenta', label='non-iid, C = 0.5')\n",
    "plt.plot(np.log10(range(1, len(acc_mlp_noniid4) + 1)), acc_mlp_noniid4, marker='.', linestyle='dotted', color='brown', label='non-iid, C = 1')\n",
    "\n",
    "plt.axhline(y=acc_threshold_2nn, color='gray', linestyle='solid')\n",
    "\n",
    "plt.xlabel('Rounds')\n",
    "plt.ylabel('Acc')\n",
    "\n",
    "plt.title('Test set accuracy vs. communication rounds for MNIST 2NN')\n",
    "\n",
    "plt.ylim(0.8, 1)\n",
    "plt.xticks(log_rounds, rounds)\n",
    "\n",
    "plt.legend()\n",
    "\n",
    "plt.show()"
   ]
  },
  {
   "cell_type": "markdown",
   "id": "16f62a6b",
   "metadata": {},
   "source": [
    "# MNIST CNN"
   ]
  },
  {
   "cell_type": "code",
   "execution_count": null,
   "id": "3151fb2c",
   "metadata": {},
   "outputs": [],
   "source": [
    "cnn = CNN()\n",
    "acc_threshold_cnn = 0.99"
   ]
  },
  {
   "cell_type": "code",
   "execution_count": null,
   "id": "92bbb830",
   "metadata": {
    "scrolled": true
   },
   "outputs": [],
   "source": [
    "# iid C = 0.1\n",
    "cnn_iid1 = copy.deepcopy(cnn)\n",
    "acc_cnn_iid1, entropy_cnn_iid1 = fedavg(cnn_iid1, C = 0.1, K = 100, E = 5, \n",
    "                      c_loader = iid_train_loader, rounds = 500, \n",
    "                      lr = 0.05, acc_threshold = acc_threshold_cnn)"
   ]
  },
  {
   "cell_type": "code",
   "execution_count": null,
   "id": "9ce04cd7",
   "metadata": {},
   "outputs": [],
   "source": [
    "def pltUncertainty(A, title):\n",
    "    max_values = [np.max(a_i) for a_i in A]\n",
    "    min_values = [np.min(a_i) for a_i in A]\n",
    "    avg_values = [np.mean(a_i) for a_i in A]\n",
    "\n",
    "\n",
    "    fig, ax = plt.subplots()\n",
    "\n",
    "    ax.fill_between(np.log10(range(1, len(A) + 1)), min_values, max_values, facecolor='red', alpha=0.2)\n",
    "\n",
    "    ax.plot(np.log10(range(1, len(A) + 1)), avg_values, color='blue')\n",
    "\n",
    "    plt.ylim(-0.1, 1)\n",
    "    plt.xticks(np.log10(range(20, 150, 40)), range(20, 150, 40))\n",
    "    ax.set_xlabel('Rounds')\n",
    "    ax.set_ylabel('Uncertainty(Entropy)')\n",
    "    ax.set_title(title)\n",
    "\n",
    "    plt.show()"
   ]
  },
  {
   "cell_type": "code",
   "execution_count": null,
   "id": "d664cedf",
   "metadata": {
    "scrolled": true
   },
   "outputs": [],
   "source": [
    "pltAcc(acc_cnn_iid1, acc_threshold_cnn, 'iid C = 0.1')\n",
    "pltUncertainty(entropy_cnn_iid1, 'iid C = 0.1')\n",
    "print(\"{} rounds needed to achieve the accuracy of {}\".format(len(acc_cnn_iid1), acc_cnn_iid1[-1]))"
   ]
  },
  {
   "cell_type": "code",
   "execution_count": null,
   "id": "9ee3712a",
   "metadata": {},
   "outputs": [],
   "source": [
    "# iid C = 0.2\n",
    "cnn_iid2 = copy.deepcopy(cnn)\n",
    "acc_cnn_iid2, entropy_cnn_iid2 = fedavg(cnn_iid2, C = 0.2, K = 100, E = 5, \n",
    "                      c_loader = iid_train_loader, rounds = 500, \n",
    "                      lr = 0.05, acc_threshold = acc_threshold_cnn)"
   ]
  },
  {
   "cell_type": "code",
   "execution_count": null,
   "id": "bff1153c",
   "metadata": {},
   "outputs": [],
   "source": [
    "pltAcc(acc_cnn_iid2, acc_threshold_cnn, 'iid C = 0.2')\n",
    "pltUncertainty(entropy_cnn_iid2, 'iid C = 0.2')\n",
    "print(\"{} rounds needed to achieve the accuracy of {}\".format(len(acc_cnn_iid2), acc_cnn_iid2[-1]))"
   ]
  },
  {
   "cell_type": "code",
   "execution_count": null,
   "id": "6dab5beb",
   "metadata": {},
   "outputs": [],
   "source": [
    "# iid C = 0.5\n",
    "cnn_iid3 = copy.deepcopy(cnn)\n",
    "acc_cnn_iid3 = fedavg(cnn_iid3, C = 0.5, K = 100, E = 5, \n",
    "                      c_loader = iid_train_loader, rounds = 500, \n",
    "                      lr = 0.05, acc_threshold = acc_threshold_cnn)\n",
    "pltAcc(acc_cnn_iid3, acc_threshold_cnn, 'iid C = 0.5')\n",
    "print(\"{} rounds needed to achieve the accuracy of {}\".format(len(acc_cnn_iid3), acc_cnn_iid3[-1]))"
   ]
  },
  {
   "cell_type": "code",
   "execution_count": null,
   "id": "e030b66c",
   "metadata": {},
   "outputs": [],
   "source": [
    "# iid C = 1\n",
    "cnn_iid4 = copy.deepcopy(cnn)\n",
    "acc_cnn_iid4 = fedavg(cnn_iid4, C = 1, K = 100, E = 5, \n",
    "                      c_loader = iid_train_loader, rounds = 500, \n",
    "                      lr = 0.05, acc_threshold = acc_threshold_cnn)\n",
    "pltAcc(acc_cnn_iid4, acc_threshold_cnn, 'iid C = 1')\n",
    "print(\"{} rounds needed to achieve the accuracy of {}\".format(len(acc_cnn_iid4), acc_cnn_iid4[-1]))"
   ]
  },
  {
   "cell_type": "code",
   "execution_count": null,
   "id": "6a7eb0bc",
   "metadata": {},
   "outputs": [],
   "source": [
    "# non-iid C = 0.1\n",
    "cnn_noniid1 = copy.deepcopy(cnn)\n",
    "acc_cnn_noniid1 = fedavg(cnn_noniid1, C = 0.1, K = 100, E = 5, \n",
    "                      c_loader = noniid_train_loader, rounds = 500, \n",
    "                      lr = 0.05, acc_threshold = acc_threshold_cnn)\n",
    "pltAcc(acc_cnn_noniid1, acc_threshold_cnn, 'non-iid C = 0.1')\n",
    "print(\"{} rounds needed to achieve the accuracy of {}\".format(len(acc_cnn_noniid1), acc_cnn_noniid1[-1]))"
   ]
  },
  {
   "cell_type": "code",
   "execution_count": null,
   "id": "a5112942",
   "metadata": {},
   "outputs": [],
   "source": [
    "# non-iid C = 0.2\n",
    "cnn_noniid2 = copy.deepcopy(cnn)\n",
    "acc_cnn_noniid2 = fedavg(cnn_noniid2, C = 0.2, K = 100, E = 5, \n",
    "                      c_loader = noniid_train_loader, rounds = 500, \n",
    "                      lr = 0.05, acc_threshold = acc_threshold_cnn)\n",
    "pltAcc(acc_cnn_noniid2, acc_threshold_cnn, 'non-iid C = 0.2')\n",
    "print(\"{} rounds needed to achieve the accuracy of {}\".format(len(acc_cnn_noniid2), acc_cnn_noniid2[-1]))"
   ]
  },
  {
   "cell_type": "code",
   "execution_count": null,
   "id": "7dd3dd30",
   "metadata": {},
   "outputs": [],
   "source": [
    "# non-iid C = 0.5\n",
    "cnn_noniid3 = copy.deepcopy(cnn)\n",
    "acc_cnn_noniid3 = fedavg(cnn_noniid3, C = 0.5, K = 100, E = 5, \n",
    "                      c_loader = noniid_train_loader, rounds = 500, \n",
    "                      lr = 0.05, acc_threshold = acc_threshold_cnn)\n",
    "pltAcc(acc_cnn_noniid3, acc_threshold_cnn, 'non-iid C = 0.5')\n",
    "print(\"{} rounds needed to achieve the accuracy of {}\".format(len(acc_cnn_noniid3), acc_cnn_noniid3[-1]))"
   ]
  },
  {
   "cell_type": "code",
   "execution_count": null,
   "id": "729775aa",
   "metadata": {},
   "outputs": [],
   "source": [
    "# non-iid C = 1\n",
    "cnn_noniid4 = copy.deepcopy(cnn)\n",
    "acc_cnn_noniid4 = fedavg(cnn_noniid4, C = 1, K = 100, E = 5, \n",
    "                      c_loader = noniid_train_loader, rounds = 500, \n",
    "                      lr = 0.05, acc_threshold = acc_threshold_cnn)\n",
    "pltAcc(acc_cnn_noniid4, acc_threshold_cnn, 'non-iid C = 1')\n",
    "print(\"{} rounds needed to achieve the accuracy of {}\".format(len(acc_cnn_noniid4), acc_cnn_noniid4[-1]))"
   ]
  },
  {
   "cell_type": "code",
   "execution_count": null,
   "id": "658b6b0f",
   "metadata": {},
   "outputs": [],
   "source": [
    "plt.figure(figsize=(12, 8))\n",
    "log_rounds = np.log10(range(50, 500, 100))\n",
    "rounds = range(50, 500, 100) \n",
    "\n",
    "plt.plot(np.log10(range(1, len(acc_cnn_iid1) + 1)), acc_cnn_iid1, marker='.', linestyle='solid', color='blue', label='iid, C = 0.1')\n",
    "plt.plot(np.log10(range(1, len(acc_cnn_iid2) + 1)), acc_cnn_iid2, marker='.', linestyle='solid', color='green', label='iid, C = 0.2')\n",
    "plt.plot(np.log10(range(1, len(acc_cnn_iid3) + 1)), acc_cnn_iid3, marker='.', linestyle='solid', color='red', label='iid, C = 0.5')\n",
    "plt.plot(np.log10(range(1, len(acc_cnn_iid4) + 1)), acc_cnn_iid4, marker='.', linestyle='solid', color='purple', label='iid, C = 1')\n",
    "plt.plot(np.log10(range(1, len(acc_cnn_noniid1) + 1)), acc_cnn_noniid1, marker='.', linestyle='dotted', color='orange', label='non-iid, C = 0.1')\n",
    "plt.plot(np.log10(range(1, len(acc_cnn_noniid2) + 1)), acc_cnn_noniid2, marker='.', linestyle='dotted', color='cyan', label='non-iid, C = 0.2')\n",
    "plt.plot(np.log10(range(1, len(acc_cnn_noniid3) + 1)), acc_cnn_noniid3, marker='.', linestyle='dotted', color='magenta', label='non-iid, C = 0.5')\n",
    "plt.plot(np.log10(range(1, len(acc_cnn_noniid4) + 1)), acc_cnn_noniid4, marker='.', linestyle='dotted', color='brown', label='non-iid, C = 1')\n",
    "\n",
    "plt.axhline(y=acc_threshold_cnn, color='gray', linestyle='solid')\n",
    "\n",
    "plt.xlabel('Rounds')\n",
    "plt.ylabel('Acc')\n",
    "\n",
    "plt.title('Test set accuracy vs. communication rounds for MNIST CNN')\n",
    "\n",
    "plt.ylim(0.8, 1)\n",
    "plt.xticks(log_rounds, rounds)\n",
    "\n",
    "plt.legend()\n",
    "\n",
    "plt.show()"
   ]
  },
  {
   "cell_type": "code",
   "execution_count": null,
   "id": "a3dc73e1",
   "metadata": {},
   "outputs": [],
   "source": []
  }
 ],
 "metadata": {
  "kernelspec": {
   "display_name": "Python 3 (ipykernel)",
   "language": "python",
   "name": "python3"
  },
  "language_info": {
   "codemirror_mode": {
    "name": "ipython",
    "version": 3
   },
   "file_extension": ".py",
   "mimetype": "text/x-python",
   "name": "python",
   "nbconvert_exporter": "python",
   "pygments_lexer": "ipython3",
   "version": "3.11.4"
  }
 },
 "nbformat": 4,
 "nbformat_minor": 5
}
