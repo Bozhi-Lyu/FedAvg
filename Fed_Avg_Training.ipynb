{
 "cells": [
  {
   "cell_type": "code",
   "execution_count": 1,
   "id": "6770816c",
   "metadata": {},
   "outputs": [],
   "source": [
    "import random\n",
    "import copy\n",
    "\n",
    "import numpy as np\n",
    "\n",
    "import torch\n",
    "import torch.nn as nn\n",
    "import torch.nn.functional as F\n",
    "from Data_Load_Assign import *"
   ]
  },
  {
   "cell_type": "code",
   "execution_count": 2,
   "id": "d01fafac",
   "metadata": {},
   "outputs": [
    {
     "name": "stdout",
     "output_type": "stream",
     "text": [
      "| using device: cuda\n"
     ]
    }
   ],
   "source": [
    "# Set device\n",
    "device = 'cuda' if torch.cuda.is_available() else 'cpu'\n",
    "print(\"| using device:\", device)\n",
    "\n",
    "# Set random seeds\n",
    "np.random.seed(0)\n",
    "torch.manual_seed(0)\n",
    "random.seed(0)\n",
    "\n",
    "# Set B: batch_size\n",
    "bsz = 10"
   ]
  },
  {
   "cell_type": "code",
   "execution_count": 3,
   "id": "372c920e",
   "metadata": {},
   "outputs": [
    {
     "name": "stdout",
     "output_type": "stream",
     "text": [
      "iid_train_loader length 100\n",
      "noniid_train_loader length 100\n"
     ]
    }
   ],
   "source": [
    "# Load Dataset\n",
    "train_data, test_data = load_MNIST()\n",
    "\n",
    "# Get client dataloaders\n",
    "iid_train_loader = iid_Assign(train_data, batch_size = bsz)\n",
    "noniid_train_loader = non_iid_Assign(train_data, batch_size = bsz)\n",
    "print(\"iid_train_loader length\", len(iid_train_loader))\n",
    "print(\"noniid_train_loader length\", len(noniid_train_loader))"
   ]
  },
  {
   "cell_type": "code",
   "execution_count": 4,
   "id": "b42c8675",
   "metadata": {},
   "outputs": [
    {
     "name": "stdout",
     "output_type": "stream",
     "text": [
      "iid:  tensor([59., 64., 71., 60., 70., 49., 64., 57., 61., 45.])\n",
      "iid:  tensor([57., 66., 65., 63., 69., 47., 58., 53., 62., 60.])\n",
      "iid:  tensor([56., 72., 72., 50., 60., 50., 56., 68., 52., 64.])\n",
      "iid:  tensor([59., 60., 56., 57., 49., 40., 61., 65., 77., 76.])\n",
      "iid:  tensor([64., 65., 51., 63., 71., 50., 67., 59., 67., 43.])\n",
      "non-iid:  tensor([  0., 300.,   0.,   0.,   0.,   0.,   0.,   0.,   0., 300.])\n",
      "non-iid:  tensor([600.,   0.,   0.,   0.,   0.,   0.,   0.,   0.,   0.,   0.])\n",
      "non-iid:  tensor([300., 300.,   0.,   0.,   0.,   0.,   0.,   0.,   0.,   0.])\n",
      "non-iid:  tensor([300.,   0.,   0.,   0.,   0.,   0., 300.,   0.,   0.,   0.])\n",
      "non-iid:  tensor([  0., 300.,   0.,   0.,   0.,   0.,   0.,   0., 300.,   0.])\n"
     ]
    }
   ],
   "source": [
    "# Test iid and non-iid is correct.\n",
    "\n",
    "# iid\n",
    "sample_iid = random.sample(iid_train_loader, 5)\n",
    "for i in sample_iid:\n",
    "    sample_label = torch.zeros(10)\n",
    "    for (x,y) in i:\n",
    "        sample_label += torch.sum(F.one_hot(y, num_classes=10), dim=0)\n",
    "    print(\"iid: \", sample_label)\n",
    "\n",
    "# non_iid\n",
    "sample_noniid = random.sample(noniid_train_loader, 5)\n",
    "for i in sample_noniid:\n",
    "    sample_label = torch.zeros(10)\n",
    "    for (x,y) in i:\n",
    "        sample_label += torch.sum(F.one_hot(y, num_classes=10), dim=0)\n",
    "    print(\"non-iid: \", sample_label)\n",
    "\n",
    "# Q: what if a client get two subdatasets of the same number? like: \n",
    "# non-iid:  tensor([600.,   0.,   0.,   0.,   0.,   0.,   0.,   0.,   0.,   0.])"
   ]
  },
  {
   "cell_type": "code",
   "execution_count": 5,
   "id": "66d39216",
   "metadata": {},
   "outputs": [
    {
     "name": "stdout",
     "output_type": "stream",
     "text": [
      "MLP(\n",
      "  (fc1): Linear(in_features=784, out_features=200, bias=True)\n",
      "  (fc2): Linear(in_features=200, out_features=200, bias=True)\n",
      "  (out): Linear(in_features=200, out_features=10, bias=True)\n",
      ")\n",
      "Total parameters of 2NN(MLP) is 199210\n",
      "CNN(\n",
      "  (conv1): Conv2d(1, 32, kernel_size=(5, 5), stride=(1, 1))\n",
      "  (pool1): MaxPool2d(kernel_size=2, stride=2, padding=0, dilation=1, ceil_mode=False)\n",
      "  (conv2): Conv2d(32, 64, kernel_size=(5, 5), stride=(1, 1))\n",
      "  (pool2): MaxPool2d(kernel_size=2, stride=2, padding=0, dilation=1, ceil_mode=False)\n",
      "  (fc1): Linear(in_features=1024, out_features=512, bias=True)\n",
      "  (fc2): Linear(in_features=512, out_features=10, bias=True)\n",
      ")\n",
      "Total parameters of CNN is 582026\n"
     ]
    }
   ],
   "source": [
    "# Model Defination\n",
    "\n",
    "# Model 1: A simple multilayer-perceptron with 2-hidden\n",
    "# layers with 200 units each using ReLu activations (199,210\n",
    "# total parameters), which we refer to as the MNIST 2NN.\n",
    "\n",
    "# define fully connected NN\n",
    "class MLP(nn.Module):\n",
    "    def __init__(self):\n",
    "        super(MLP, self).__init__()\n",
    "        self.fc1 = nn.Linear(784, 200);\n",
    "        self.fc2 = nn.Linear(200, 200);\n",
    "        self.out = nn.Linear(200, 10);\n",
    "\n",
    "    def forward(self, x):\n",
    "        x = x.flatten(1) # torch.Size([B,784])\n",
    "        x = F.relu(self.fc1(x))\n",
    "        x = F.relu(self.fc2(x))\n",
    "        x = self.out(x)\n",
    "        return x\n",
    "\n",
    "print(MLP())\n",
    "print(\"Total parameters of 2NN(MLP) is\", num_params(MLP()))\n",
    "\n",
    "# Model 2: A CNN with two 5x5 convolution layers (the first with\n",
    "# 32 channels, the second with 64, each followed with 2x2\n",
    "# max pooling), a fully connected layer with 512 units and\n",
    "# ReLu activation, and a final softmax output layer (1,663,370\n",
    "# total parameters).\n",
    "\n",
    "class CNN(nn.Module):\n",
    "    def __init__(self):\n",
    "        super(CNN, self).__init__()\n",
    "        self.conv1 = nn.Conv2d(1, 32, kernel_size=5)\n",
    "        self.pool1 = nn.MaxPool2d(kernel_size=2, stride=2)\n",
    "        self.conv2 = nn.Conv2d(32, 64, kernel_size=5)\n",
    "        self.pool2 = nn.MaxPool2d(kernel_size=2, stride=2)\n",
    "        self.fc1 = nn.Linear(64 * 4 * 4, 512)\n",
    "        self.fc2 = nn.Linear(512, 10)\n",
    "    \n",
    "    def forward(self, x):\n",
    "        x = self.pool1(F.relu(self.conv1(x)))\n",
    "        x = self.pool2(F.relu(self.conv2(x)))\n",
    "        x = x.view(-1, 64 * 4 * 4) # flatten\n",
    "        x = F.relu(self.fc1(x))\n",
    "        x = F.softmax(self.fc2(x), dim=1)\n",
    "        return x\n",
    "\n",
    "print(CNN())\n",
    "print(\"Total parameters of CNN is\", num_params(CNN()))\n",
    "\n",
    "# Q: The paper said there will be 1,663,370 total parameters. Something wrong?"
   ]
  },
  {
   "cell_type": "code",
   "execution_count": null,
   "id": "ffe9c771",
   "metadata": {},
   "outputs": [],
   "source": []
  },
  {
   "cell_type": "code",
   "execution_count": null,
   "id": "d4ef5d7a",
   "metadata": {},
   "outputs": [],
   "source": []
  },
  {
   "cell_type": "code",
   "execution_count": null,
   "id": "658b6b0f",
   "metadata": {},
   "outputs": [],
   "source": []
  }
 ],
 "metadata": {
  "kernelspec": {
   "display_name": "Python 3 (ipykernel)",
   "language": "python",
   "name": "python3"
  },
  "language_info": {
   "codemirror_mode": {
    "name": "ipython",
    "version": 3
   },
   "file_extension": ".py",
   "mimetype": "text/x-python",
   "name": "python",
   "nbconvert_exporter": "python",
   "pygments_lexer": "ipython3",
   "version": "3.11.4"
  }
 },
 "nbformat": 4,
 "nbformat_minor": 5
}
